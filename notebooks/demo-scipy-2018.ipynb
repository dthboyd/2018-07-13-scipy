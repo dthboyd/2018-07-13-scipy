{
 "cells": [
  {
   "cell_type": "code",
   "execution_count": 1,
   "metadata": {},
   "outputs": [],
   "source": [
    "import numpy as np\n",
    "import yt_pycanvas\n",
    "import ipydatawidgets\n",
    "import ipywidgets\n",
    "import traitlets\n",
    "from IPython.display import DisplayObject, display\n",
    "import yt\n",
    "import h5py"
   ]
  },
  {
   "cell_type": "markdown",
   "metadata": {},
   "source": [
    "First we'll load IsolatedGalaxy, one of the datasets that is used throughout yt's documentation. "
   ]
  },
  {
   "cell_type": "code",
   "execution_count": 2,
   "metadata": {},
   "outputs": [
    {
     "name": "stderr",
     "output_type": "stream",
     "text": [
      "yt : [INFO     ] 2018-07-13 13:44:23,448 Parameters: current_time              = 0.0060000200028298\n",
      "yt : [INFO     ] 2018-07-13 13:44:23,449 Parameters: domain_dimensions         = [32 32 32]\n",
      "yt : [INFO     ] 2018-07-13 13:44:23,450 Parameters: domain_left_edge          = [0. 0. 0.]\n",
      "yt : [INFO     ] 2018-07-13 13:44:23,453 Parameters: domain_right_edge         = [1. 1. 1.]\n",
      "yt : [INFO     ] 2018-07-13 13:44:23,455 Parameters: cosmological_simulation   = 0.0\n"
     ]
    }
   ],
   "source": [
    "ds = yt.load(\"/Users/madicken/repos/talks/2018-07-13-scipy/notebooks/data/IsolatedGalaxy/galaxy0030/galaxy0030\")"
   ]
  },
  {
   "cell_type": "markdown",
   "metadata": {},
   "source": [
    "### Using Jupyter Widgets out-of-the-box With yt"
   ]
  },
  {
   "cell_type": "code",
   "execution_count": 3,
   "metadata": {},
   "outputs": [
    {
     "name": "stderr",
     "output_type": "stream",
     "text": [
      "yt : [INFO     ] 2018-07-12 08:31:41,154 Parameters: current_time              = 0.0060000200028298\n",
      "yt : [INFO     ] 2018-07-12 08:31:41,157 Parameters: domain_dimensions         = [32 32 32]\n",
      "yt : [INFO     ] 2018-07-12 08:31:41,160 Parameters: domain_left_edge          = [0. 0. 0.]\n",
      "yt : [INFO     ] 2018-07-12 08:31:41,163 Parameters: domain_right_edge         = [1. 1. 1.]\n",
      "yt : [INFO     ] 2018-07-12 08:31:41,166 Parameters: cosmological_simulation   = 0.0\n"
     ]
    },
    {
     "data": {
      "application/vnd.jupyter.widget-view+json": {
       "model_id": "ebdbead16c9041ff94adc6be1d1ebb95",
       "version_major": 2,
       "version_minor": 0
      },
      "text/plain": [
       "VBox(children=(Image(value=b'', height='512', width='512'), FloatSlider(value=1.0, max=1.0, step=0.001), Float…"
      ]
     },
     "metadata": {},
     "output_type": "display_data"
    },
    {
     "name": "stderr",
     "output_type": "stream",
     "text": [
      "yt : [INFO     ] 2018-07-12 08:31:44,663 Making a fixed resolution buffer of (density) 512 by 512\n",
      "Parsing Hierarchy : 100%|██████████| 173/173 [00:00<00:00, 18270.54it/s]\n",
      "yt : [INFO     ] 2018-07-12 08:31:44,690 Gathering a field list (this may take a moment.)\n",
      "yt : [INFO     ] 2018-07-12 08:31:47,192 Making a fixed resolution buffer of (density) 512 by 512\n",
      "yt : [INFO     ] 2018-07-12 08:31:50,534 Making a fixed resolution buffer of (density) 512 by 512\n",
      "yt : [INFO     ] 2018-07-12 08:31:55,693 Making a fixed resolution buffer of (density) 512 by 512\n",
      "yt : [INFO     ] 2018-07-12 08:31:55,964 Making a fixed resolution buffer of (density) 512 by 512\n",
      "yt : [INFO     ] 2018-07-12 08:31:56,180 Making a fixed resolution buffer of (density) 512 by 512\n",
      "yt : [INFO     ] 2018-07-12 08:31:56,403 Making a fixed resolution buffer of (density) 512 by 512\n",
      "yt : [INFO     ] 2018-07-12 08:31:56,623 Making a fixed resolution buffer of (density) 512 by 512\n",
      "yt : [INFO     ] 2018-07-12 08:31:56,842 Making a fixed resolution buffer of (density) 512 by 512\n",
      "yt : [INFO     ] 2018-07-12 08:31:57,061 Making a fixed resolution buffer of (density) 512 by 512\n",
      "yt : [INFO     ] 2018-07-12 08:31:57,305 Making a fixed resolution buffer of (density) 512 by 512\n",
      "yt : [INFO     ] 2018-07-12 08:31:57,548 Making a fixed resolution buffer of (density) 512 by 512\n",
      "yt : [INFO     ] 2018-07-12 08:31:57,761 Making a fixed resolution buffer of (density) 512 by 512\n",
      "yt : [INFO     ] 2018-07-12 08:31:57,980 Making a fixed resolution buffer of (density) 512 by 512\n",
      "yt : [INFO     ] 2018-07-12 08:31:58,209 Making a fixed resolution buffer of (density) 512 by 512\n",
      "yt : [INFO     ] 2018-07-12 08:31:58,427 Making a fixed resolution buffer of (density) 512 by 512\n",
      "yt : [INFO     ] 2018-07-12 08:31:58,645 Making a fixed resolution buffer of (density) 512 by 512\n",
      "yt : [INFO     ] 2018-07-12 08:31:58,876 Making a fixed resolution buffer of (density) 512 by 512\n",
      "yt : [INFO     ] 2018-07-12 08:31:59,110 Making a fixed resolution buffer of (density) 512 by 512\n",
      "yt : [INFO     ] 2018-07-12 08:31:59,391 Making a fixed resolution buffer of (density) 512 by 512\n",
      "yt : [INFO     ] 2018-07-12 08:31:59,660 Making a fixed resolution buffer of (density) 512 by 512\n",
      "yt : [INFO     ] 2018-07-12 08:31:59,914 Making a fixed resolution buffer of (density) 512 by 512\n",
      "yt : [INFO     ] 2018-07-12 08:32:00,141 Making a fixed resolution buffer of (density) 512 by 512\n",
      "yt : [INFO     ] 2018-07-12 08:32:00,376 Making a fixed resolution buffer of (density) 512 by 512\n",
      "yt : [INFO     ] 2018-07-12 08:32:00,593 Making a fixed resolution buffer of (density) 512 by 512\n",
      "yt : [INFO     ] 2018-07-12 08:32:00,800 Making a fixed resolution buffer of (density) 512 by 512\n",
      "yt : [INFO     ] 2018-07-12 08:32:01,014 Making a fixed resolution buffer of (density) 512 by 512\n",
      "yt : [INFO     ] 2018-07-12 08:32:01,235 Making a fixed resolution buffer of (density) 512 by 512\n",
      "yt : [INFO     ] 2018-07-12 08:32:01,461 Making a fixed resolution buffer of (density) 512 by 512\n",
      "yt : [INFO     ] 2018-07-12 08:32:01,687 Making a fixed resolution buffer of (density) 512 by 512\n",
      "yt : [INFO     ] 2018-07-12 08:32:01,938 Making a fixed resolution buffer of (density) 512 by 512\n",
      "yt : [INFO     ] 2018-07-12 08:32:02,157 Making a fixed resolution buffer of (density) 512 by 512\n",
      "yt : [INFO     ] 2018-07-12 08:32:02,378 Making a fixed resolution buffer of (density) 512 by 512\n",
      "yt : [INFO     ] 2018-07-12 08:32:02,603 Making a fixed resolution buffer of (density) 512 by 512\n",
      "yt : [INFO     ] 2018-07-12 08:32:02,827 Making a fixed resolution buffer of (density) 512 by 512\n",
      "yt : [INFO     ] 2018-07-12 08:32:03,050 Making a fixed resolution buffer of (density) 512 by 512\n",
      "yt : [INFO     ] 2018-07-12 08:32:03,275 Making a fixed resolution buffer of (density) 512 by 512\n",
      "yt : [INFO     ] 2018-07-12 08:32:03,500 Making a fixed resolution buffer of (density) 512 by 512\n",
      "yt : [INFO     ] 2018-07-12 08:32:03,721 Making a fixed resolution buffer of (density) 512 by 512\n",
      "yt : [INFO     ] 2018-07-12 08:32:03,984 Making a fixed resolution buffer of (density) 512 by 512\n",
      "yt : [INFO     ] 2018-07-12 08:32:04,265 Making a fixed resolution buffer of (density) 512 by 512\n",
      "yt : [INFO     ] 2018-07-12 08:32:04,529 Making a fixed resolution buffer of (density) 512 by 512\n",
      "yt : [INFO     ] 2018-07-12 08:32:04,764 Making a fixed resolution buffer of (density) 512 by 512\n",
      "yt : [INFO     ] 2018-07-12 08:32:04,993 Making a fixed resolution buffer of (density) 512 by 512\n",
      "yt : [INFO     ] 2018-07-12 08:32:05,222 Making a fixed resolution buffer of (density) 512 by 512\n",
      "yt : [INFO     ] 2018-07-12 08:32:05,455 Making a fixed resolution buffer of (density) 512 by 512\n",
      "yt : [INFO     ] 2018-07-12 08:32:05,681 Making a fixed resolution buffer of (density) 512 by 512\n",
      "yt : [INFO     ] 2018-07-12 08:32:05,918 Making a fixed resolution buffer of (density) 512 by 512\n",
      "yt : [INFO     ] 2018-07-12 08:32:06,140 Making a fixed resolution buffer of (density) 512 by 512\n",
      "yt : [INFO     ] 2018-07-12 08:32:06,359 Making a fixed resolution buffer of (density) 512 by 512\n",
      "yt : [INFO     ] 2018-07-12 08:32:06,591 Making a fixed resolution buffer of (density) 512 by 512\n",
      "yt : [INFO     ] 2018-07-12 08:32:06,834 Making a fixed resolution buffer of (density) 512 by 512\n",
      "yt : [INFO     ] 2018-07-12 08:32:07,041 Making a fixed resolution buffer of (density) 512 by 512\n",
      "yt : [INFO     ] 2018-07-12 08:32:07,322 Making a fixed resolution buffer of (density) 512 by 512\n",
      "yt : [INFO     ] 2018-07-12 08:32:07,564 Making a fixed resolution buffer of (density) 512 by 512\n",
      "yt : [INFO     ] 2018-07-12 08:32:07,778 Making a fixed resolution buffer of (density) 512 by 512\n",
      "yt : [INFO     ] 2018-07-12 08:32:08,008 Making a fixed resolution buffer of (density) 512 by 512\n",
      "yt : [INFO     ] 2018-07-12 08:32:08,207 Making a fixed resolution buffer of (density) 512 by 512\n",
      "yt : [INFO     ] 2018-07-12 08:32:08,416 Making a fixed resolution buffer of (density) 512 by 512\n",
      "yt : [INFO     ] 2018-07-12 08:32:08,641 Making a fixed resolution buffer of (density) 512 by 512\n",
      "yt : [INFO     ] 2018-07-12 08:32:08,850 Making a fixed resolution buffer of (density) 512 by 512\n",
      "yt : [INFO     ] 2018-07-12 08:32:09,053 Making a fixed resolution buffer of (density) 512 by 512\n",
      "yt : [INFO     ] 2018-07-12 08:32:09,277 Making a fixed resolution buffer of (density) 512 by 512\n",
      "yt : [INFO     ] 2018-07-12 08:32:09,524 Making a fixed resolution buffer of (density) 512 by 512\n",
      "yt : [INFO     ] 2018-07-12 08:32:09,786 Making a fixed resolution buffer of (density) 512 by 512\n",
      "yt : [INFO     ] 2018-07-12 08:32:09,987 Making a fixed resolution buffer of (density) 512 by 512\n",
      "yt : [INFO     ] 2018-07-12 08:32:10,191 Making a fixed resolution buffer of (density) 512 by 512\n",
      "yt : [INFO     ] 2018-07-12 08:32:10,414 Making a fixed resolution buffer of (density) 512 by 512\n",
      "yt : [INFO     ] 2018-07-12 08:32:10,614 Making a fixed resolution buffer of (density) 512 by 512\n",
      "yt : [INFO     ] 2018-07-12 08:32:10,810 Making a fixed resolution buffer of (density) 512 by 512\n",
      "yt : [INFO     ] 2018-07-12 08:32:11,014 Making a fixed resolution buffer of (density) 512 by 512\n",
      "yt : [INFO     ] 2018-07-12 08:32:11,221 Making a fixed resolution buffer of (density) 512 by 512\n",
      "yt : [INFO     ] 2018-07-12 08:32:11,424 Making a fixed resolution buffer of (density) 512 by 512\n",
      "yt : [INFO     ] 2018-07-12 08:32:11,599 Making a fixed resolution buffer of (density) 512 by 512\n",
      "yt : [INFO     ] 2018-07-12 08:32:11,787 Making a fixed resolution buffer of (density) 512 by 512\n",
      "yt : [INFO     ] 2018-07-12 08:32:11,980 Making a fixed resolution buffer of (density) 512 by 512\n",
      "yt : [INFO     ] 2018-07-12 08:32:12,163 Making a fixed resolution buffer of (density) 512 by 512\n",
      "yt : [INFO     ] 2018-07-12 08:32:12,347 Making a fixed resolution buffer of (density) 512 by 512\n",
      "yt : [INFO     ] 2018-07-12 08:32:12,544 Making a fixed resolution buffer of (density) 512 by 512\n",
      "yt : [INFO     ] 2018-07-12 08:32:12,757 Making a fixed resolution buffer of (density) 512 by 512\n",
      "yt : [INFO     ] 2018-07-12 08:32:12,926 Making a fixed resolution buffer of (density) 512 by 512\n",
      "yt : [INFO     ] 2018-07-12 08:32:13,118 Making a fixed resolution buffer of (density) 512 by 512\n"
     ]
    },
    {
     "name": "stderr",
     "output_type": "stream",
     "text": [
      "yt : [INFO     ] 2018-07-12 08:32:13,299 Making a fixed resolution buffer of (density) 512 by 512\n",
      "yt : [INFO     ] 2018-07-12 08:32:13,469 Making a fixed resolution buffer of (density) 512 by 512\n",
      "yt : [INFO     ] 2018-07-12 08:32:13,639 Making a fixed resolution buffer of (density) 512 by 512\n",
      "yt : [INFO     ] 2018-07-12 08:32:13,806 Making a fixed resolution buffer of (density) 512 by 512\n",
      "yt : [INFO     ] 2018-07-12 08:32:13,970 Making a fixed resolution buffer of (density) 512 by 512\n",
      "yt : [INFO     ] 2018-07-12 08:32:14,119 Making a fixed resolution buffer of (density) 512 by 512\n",
      "yt : [INFO     ] 2018-07-12 08:32:14,278 Making a fixed resolution buffer of (density) 512 by 512\n",
      "yt : [INFO     ] 2018-07-12 08:32:14,426 Making a fixed resolution buffer of (density) 512 by 512\n",
      "yt : [INFO     ] 2018-07-12 08:32:14,593 Making a fixed resolution buffer of (density) 512 by 512\n",
      "yt : [INFO     ] 2018-07-12 08:32:14,760 Making a fixed resolution buffer of (density) 512 by 512\n",
      "yt : [INFO     ] 2018-07-12 08:32:14,920 Making a fixed resolution buffer of (density) 512 by 512\n",
      "yt : [INFO     ] 2018-07-12 08:32:15,071 Making a fixed resolution buffer of (density) 512 by 512\n",
      "yt : [INFO     ] 2018-07-12 08:32:15,238 Making a fixed resolution buffer of (density) 512 by 512\n",
      "yt : [INFO     ] 2018-07-12 08:32:15,374 Making a fixed resolution buffer of (density) 512 by 512\n",
      "yt : [INFO     ] 2018-07-12 08:32:15,505 Making a fixed resolution buffer of (density) 512 by 512\n",
      "yt : [INFO     ] 2018-07-12 08:32:15,661 Making a fixed resolution buffer of (density) 512 by 512\n",
      "yt : [INFO     ] 2018-07-12 08:32:15,788 Making a fixed resolution buffer of (density) 512 by 512\n",
      "yt : [INFO     ] 2018-07-12 08:32:15,928 Making a fixed resolution buffer of (density) 512 by 512\n",
      "/Users/madicken/python/anaconda/envs/py36dev/lib/python3.6/site-packages/yt/visualization/image_writer.py:246: RuntimeWarning: All-NaN axis encountered\n",
      "  mi = np.nanmin(image[~np.isinf(image)])*image.uq\n",
      "/Users/madicken/python/anaconda/envs/py36dev/lib/python3.6/site-packages/yt/visualization/image_writer.py:247: RuntimeWarning: All-NaN axis encountered\n",
      "  ma = np.nanmax(image[~np.isinf(image)])*image.uq\n",
      "yt : [INFO     ] 2018-07-12 08:32:24,121 Making a fixed resolution buffer of (density) 512 by 512\n",
      "yt : [INFO     ] 2018-07-12 08:32:24,266 Making a fixed resolution buffer of (density) 512 by 512\n",
      "yt : [INFO     ] 2018-07-12 08:32:24,400 Making a fixed resolution buffer of (density) 512 by 512\n",
      "yt : [INFO     ] 2018-07-12 08:32:24,596 Making a fixed resolution buffer of (density) 512 by 512\n",
      "yt : [INFO     ] 2018-07-12 08:32:24,794 Making a fixed resolution buffer of (density) 512 by 512\n",
      "yt : [INFO     ] 2018-07-12 08:32:24,999 Making a fixed resolution buffer of (density) 512 by 512\n",
      "yt : [INFO     ] 2018-07-12 08:32:25,235 Making a fixed resolution buffer of (density) 512 by 512\n"
     ]
    }
   ],
   "source": [
    "ds = yt.load(\"/Users/madicken/repos/talks/2018-07-13-scipy/notebooks/data/IsolatedGalaxy/galaxy0030/galaxy0030\")\n",
    "class State(traitlets.HasTraits):\n",
    "    sl = traitlets.Instance(yt.data_objects.selection_data_containers.YTSlice)\n",
    "    im = traitlets.Instance(ipywidgets.Image)\n",
    "    width = traitlets.Float(1.0)\n",
    "    center_x = traitlets.Float(0.5)\n",
    "    center_y = traitlets.Float(0.5)\n",
    "    frb = traitlets.Instance(yt.FixedResolutionBuffer)\n",
    "    \n",
    "    @traitlets.observe('center_x', 'center_y')\n",
    "    def on_change_center(self, event):\n",
    "        self.frb = self.sl.to_frb(self.width, (512, 512), center=(self.center_x, self.center_y))\n",
    "        \n",
    "    @traitlets.observe('width')\n",
    "    def on_change_width(self, event):\n",
    "        self.frb = self.sl.to_frb(self.width, (512, 512), center=(self.center_x, self.center_y))\n",
    "    \n",
    "    @traitlets.observe('frb')\n",
    "    def on_change_frb(self, event):\n",
    "        self.im.value = yt.write_bitmap(yt.write_image(np.log10(self.frb[\"density\"]), None), None)\n",
    "        \n",
    "# ds = yt.load(\"IsolatedGalaxy/galaxy0030/galaxy0030\")\n",
    "im = ipywidgets.Image(width = 512, height = 512)\n",
    "s = State(sl = ds.r[:,:,0.5], im = im)\n",
    "width_slider = ipywidgets.FloatSlider(min=0.0, max=1.0, value=1.0, step=0.001)\n",
    "center_x_slider = ipywidgets.FloatSlider(min=0.0, max=1.0, value=0.5, step=0.001)\n",
    "center_y_slider = ipywidgets.FloatSlider(min=0.0, max=1.0, value=0.5, step=0.001)\n",
    "traitlets.link((width_slider, 'value'), (s, 'width'))\n",
    "traitlets.link((center_x_slider, 'value'), (s, 'center_x'))\n",
    "traitlets.link((center_y_slider, 'value'), (s, 'center_y'))\n",
    "\n",
    "display(ipywidgets.VBox([im, width_slider, center_x_slider, center_y_slider]))"
   ]
  },
  {
   "cell_type": "markdown",
   "metadata": {},
   "source": [
    "### Using yt_pycanvas on the same dataset"
   ]
  },
  {
   "cell_type": "code",
   "execution_count": 3,
   "metadata": {},
   "outputs": [
    {
     "name": "stderr",
     "output_type": "stream",
     "text": [
      "Parsing Hierarchy : 100%|██████████| 173/173 [00:00<00:00, 23607.97it/s]\n",
      "yt : [INFO     ] 2018-07-13 10:47:43,422 Gathering a field list (this may take a moment.)\n",
      "/Users/madicken/python/anaconda/envs/py36dev/lib/python3.6/site-packages/traittypes/traittypes.py:105: UserWarning: Given trait value dtype \"float64\" does not match required type \"float64\". A coerced copy has been created.\n",
      "  np.dtype(self.dtype).name))\n"
     ]
    },
    {
     "name": "stdout",
     "output_type": "stream",
     "text": [
      "getting colormaps from matplotlib...\n"
     ]
    },
    {
     "data": {
      "application/vnd.jupyter.widget-view+json": {
       "model_id": "18c32d0941594545a36f4e349fc0d023",
       "version_major": 2,
       "version_minor": 0
      },
      "text/plain": [
       "HBox(children=(Accordion(children=(VBox(children=(VBox(children=(Button(icon='arrow-up', layout=Layout(width='…"
      ]
     },
     "metadata": {},
     "output_type": "display_data"
    }
   ],
   "source": [
    "s = ds.r[:,:,0.5]\n",
    "frb = yt_pycanvas.FRBViewer(height = 1024, width = 1024,\n",
    "                            px = s[\"px\"], py = s[\"py\"], pdx = s[\"pdx\"], pdy = s[\"pdy\"],\n",
    "                            val = s[\"density\"], layout=ipywidgets.Layout(width = '500px', height='500px'))\n",
    "controls = frb.setup_controls()\n",
    "display(ipywidgets.HBox([controls,frb]))"
   ]
  },
  {
   "cell_type": "markdown",
   "metadata": {},
   "source": [
    "### Slice from Pop II prime through the densest location "
   ]
  },
  {
   "cell_type": "code",
   "execution_count": 3,
   "metadata": {},
   "outputs": [
    {
     "name": "stdout",
     "output_type": "stream",
     "text": [
      "Reading  px\n",
      "Reading  py\n",
      "Reading  pdx\n",
      "Reading  pdy\n",
      "Reading  density\n",
      "Reading  temperature\n",
      "getting colormaps from matplotlib...\n"
     ]
    },
    {
     "data": {
      "application/vnd.jupyter.widget-view+json": {
       "model_id": "5d14b7ef0d6548ed88d0f503b0b62a0b",
       "version_major": 2,
       "version_minor": 0
      },
      "text/plain": [
       "HBox(children=(Accordion(children=(VBox(children=(VBox(children=(Button(icon='arrow-up', layout=Layout(width='…"
      ]
     },
     "metadata": {},
     "output_type": "display_data"
    }
   ],
   "source": [
    "with h5py.File(\"/Users/madicken/repos/talks/2018-07-13-scipy/notebooks/data/DD0182_slice.h5\", \"r\") as f:\n",
    "    s = {}\n",
    "    for field in (\"px\", \"py\", \"pdx\", \"pdy\", \"density\", \"temperature\"):\n",
    "        print(\"Reading \", field)\n",
    "        s[field] = f[field][:]\n",
    "frb_dens = yt_pycanvas.FRBViewer(height = 1024, width = 1024,\n",
    "                            px = s[\"px\"], py = s[\"py\"], pdx = s[\"pdx\"], pdy = s[\"pdy\"],\n",
    "                            val = s[\"density\"],\n",
    "                            layout = ipywidgets.Layout(width = '500px', height='500px'))\n",
    "controls = frb_dens.setup_controls()\n",
    "display(ipywidgets.HBox([controls,frb_dens]))"
   ]
  },
  {
   "cell_type": "markdown",
   "metadata": {},
   "source": [
    "#### We can also link our widget traitlets to explore multiple fields at the same time. "
   ]
  },
  {
   "cell_type": "markdown",
   "metadata": {},
   "source": [
    "first let's add another zoom widget with a log scale. "
   ]
  },
  {
   "cell_type": "code",
   "execution_count": 9,
   "metadata": {},
   "outputs": [
    {
     "data": {
      "application/vnd.jupyter.widget-view+json": {
       "model_id": "cbefda2987fa46a99f0db51097fbd146",
       "version_major": 2,
       "version_minor": 0
      },
      "text/plain": [
       "FloatLogSlider(value=1.0, max=0.0, min=-8.428839878591473)"
      ]
     },
     "metadata": {},
     "output_type": "display_data"
    }
   ],
   "source": [
    "frb_dens.colormaps.is_log = True\n",
    "width_slider = ipywidgets.FloatLogSlider(value = 0.0, max = 0.0, min = np.log10(512 * s[\"pdx\"].min()), base = 10)\n",
    "\n",
    "width_slider.value = 1.0\n",
    "def on_changed(event):\n",
    "    frb_dens.view_width = (event['new'], event['new'])\n",
    "width_slider.observe(on_changed, 'value', 'change')\n",
    "width_slider"
   ]
  },
  {
   "cell_type": "code",
   "execution_count": 10,
   "metadata": {},
   "outputs": [
    {
     "name": "stdout",
     "output_type": "stream",
     "text": [
      "getting colormaps from matplotlib...\n"
     ]
    },
    {
     "data": {
      "application/vnd.jupyter.widget-view+json": {
       "model_id": "0b901c4369614f26b930c376d55e26a2",
       "version_major": 2,
       "version_minor": 0
      },
      "text/plain": [
       "VBox(children=(FloatLogSlider(value=1.0, max=0.0, min=-8.428839878591473), HBox(children=(Accordion(children=(…"
      ]
     },
     "metadata": {},
     "output_type": "display_data"
    }
   ],
   "source": [
    "frb_temp = yt_pycanvas.FRBViewer(height = 1024, width = 1024,\n",
    "                            px = s[\"px\"], py = s[\"py\"], pdx = s[\"pdx\"], pdy = s[\"pdy\"],\n",
    "                            val = s[\"temperature\"], layout=ipywidgets.Layout(width = '500px', height='500px'))\n",
    "ipywidgets.link((frb_dens, 'view_center'), (frb_temp, 'view_center'))\n",
    "ipywidgets.link((frb_dens, 'view_width'), (frb_temp, 'view_width'))\n",
    "ipywidgets.link((frb_dens.colormaps, 'is_log'), (frb_temp.colormaps, 'is_log'))\n",
    "display(ipywidgets.VBox([width_slider,ipywidgets.HBox([controls,frb_dens, frb_temp])]))"
   ]
  },
  {
   "cell_type": "markdown",
   "metadata": {},
   "source": [
    "#### We can also access the temperature field properties through the traitlets. "
   ]
  },
  {
   "cell_type": "code",
   "execution_count": 11,
   "metadata": {},
   "outputs": [],
   "source": [
    "frb_temp.colormaps.map_name='inferno'"
   ]
  },
  {
   "cell_type": "markdown",
   "metadata": {},
   "source": [
    "### Projection of Pop II prime dataset"
   ]
  },
  {
   "cell_type": "code",
   "execution_count": 4,
   "metadata": {},
   "outputs": [
    {
     "name": "stdout",
     "output_type": "stream",
     "text": [
      "Reading  px\n",
      "Reading  py\n",
      "Reading  pdx\n",
      "Reading  pdy\n",
      "Reading  density\n",
      "Reading  temperature\n",
      "getting colormaps from matplotlib...\n",
      "getting colormaps from matplotlib...\n"
     ]
    },
    {
     "data": {
      "application/vnd.jupyter.widget-view+json": {
       "model_id": "efc9ea3309b44d56951c1f360dfbbde9",
       "version_major": 2,
       "version_minor": 0
      },
      "text/plain": [
       "VBox(children=(FloatLogSlider(value=1.0, max=0.0, min=-8.428839878591473), HBox(children=(Accordion(children=(…"
      ]
     },
     "metadata": {},
     "output_type": "display_data"
    }
   ],
   "source": [
    "with h5py.File(\"/Users/madicken/repos/talks/2018-07-13-scipy/notebooks/data/DD0182_proj.h5\", \"r\") as f:\n",
    "    s = {}\n",
    "    for field in (\"px\", \"py\", \"pdx\", \"pdy\", \"density\", \"temperature\"):\n",
    "        print(\"Reading \", field)\n",
    "        s[field] = f[field][:]\n",
    "frb_projd = yt_pycanvas.FRBViewer(height = 512, width = 512,\n",
    "                            px = s[\"px\"], py = s[\"py\"], pdx = s[\"pdx\"], pdy = s[\"pdy\"],\n",
    "                            val = s[\"density\"], layout=ipywidgets.Layout(width = '500px', height='500px'))\n",
    "frb_projt = yt_pycanvas.FRBViewer(height = 512, width = 512,\n",
    "                            px = s[\"px\"], py = s[\"py\"], pdx = s[\"pdx\"], pdy = s[\"pdy\"],\n",
    "                            val = s[\"temperature\"], layout=ipywidgets.Layout(width = '500px', height='500px'))\n",
    "ipywidgets.link((frb_projd, 'view_center'), (frb_projt, 'view_center'))\n",
    "ipywidgets.link((frb_projd, 'view_width'), (frb_projt, 'view_width'))\n",
    "ipywidgets.link((frb_projd.colormaps, 'is_log'), (frb_projt.colormaps, 'is_log'))\n",
    "frb_projd.colormaps.is_log = True\n",
    "width_slider2 = ipywidgets.FloatLogSlider(value = 0.0, max = 0.0, min = np.log10(512 * s[\"pdx\"].min()), base = 10)\n",
    "width_slider2.value = 1.0\n",
    "def on_changed(event):\n",
    "    frb_projd.view_width = (event['new'], event['new'])\n",
    "width_slider2.observe(on_changed, 'value', 'change')\n",
    "frb_projt.colormaps.map_name='inferno'\n",
    "controls = frb_projd.setup_controls()\n",
    "display(ipywidgets.VBox([width_slider2,ipywidgets.HBox([controls,frb_projd, frb_projt])]))"
   ]
  },
  {
   "cell_type": "code",
   "execution_count": 7,
   "metadata": {},
   "outputs": [],
   "source": [
    "frb_projt.colormaps.map_name='inferno'"
   ]
  },
  {
   "cell_type": "code",
   "execution_count": null,
   "metadata": {},
   "outputs": [],
   "source": []
  }
 ],
 "metadata": {
  "kernelspec": {
   "display_name": "Python 3",
   "language": "python",
   "name": "python3"
  },
  "language_info": {
   "codemirror_mode": {
    "name": "ipython",
    "version": 3
   },
   "file_extension": ".py",
   "mimetype": "text/x-python",
   "name": "python",
   "nbconvert_exporter": "python",
   "pygments_lexer": "ipython3",
   "version": "3.6.5"
  }
 },
 "nbformat": 4,
 "nbformat_minor": 2
}
